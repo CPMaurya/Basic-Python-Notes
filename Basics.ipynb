{
 "cells": [
  {
   "cell_type": "markdown",
   "metadata": {},
   "source": [
    "# heading 1"
   ]
  },
  {
   "cell_type": "code",
   "execution_count": 1,
   "metadata": {
    "scrolled": true
   },
   "outputs": [
    {
     "name": "stdout",
     "output_type": "stream",
     "text": [
      "Hello World!\n"
     ]
    }
   ],
   "source": [
    "print('Hello World!')"
   ]
  },
  {
   "cell_type": "code",
   "execution_count": 33,
   "metadata": {},
   "outputs": [
    {
     "name": "stdout",
     "output_type": "stream",
     "text": [
      "Chandra-------------\n",
      "------Prakash-------\n",
      "--------------Maurya\n"
     ]
    }
   ],
   "source": [
    "width=20\n",
    "print('Chandra'.ljust(width,'-'))\n",
    "print('Prakash'.center(width,'-'))\n",
    "print('Maurya'.rjust(width,'-'))"
   ]
  },
  {
   "cell_type": "code",
   "execution_count": 6,
   "metadata": {},
   "outputs": [
    {
     "name": "stdout",
     "output_type": "stream",
     "text": [
      "cpcp\n"
     ]
    }
   ],
   "source": [
    "var = 'cp'\n",
    "var = var*2\n",
    "print(var)"
   ]
  },
  {
   "cell_type": "code",
   "execution_count": 8,
   "metadata": {},
   "outputs": [
    {
     "name": "stdout",
     "output_type": "stream",
     "text": [
      "chandra prakash\n",
      "1024\n"
     ]
    }
   ],
   "source": [
    "print('chandra prakash')\n",
    "var = 4**5\n",
    "print(var)"
   ]
  },
  {
   "cell_type": "code",
   "execution_count": 15,
   "metadata": {},
   "outputs": [
    {
     "name": "stdout",
     "output_type": "stream",
     "text": [
      "[1, 4, 27, 256, 3125, 46656, 823543, 16777216, 387420489, 10000000000, 285311670611, 8916100448256, 302875106592253, 11112006825558016, 437893890380859375, 18446744073709551616, 827240261886336764177, 39346408075296537575424, 1978419655660313589123979, 104857600000000000000000000, 5842587018385982521381124421, 341427877364219557396646723584, 20880467999847912034355032910567, 1333735776850284124449081472843776, 88817841970012523233890533447265625, 6156119580207157310796674288400203776, 443426488243037769948249630619149892803, 33145523113253374862572728253364605812736, 2567686153161211134561828214731016126483469, 205891132094649000000000000000000000000000000, 17069174130723235958610643029059314756044734431, 1461501637330902918203684832716283019655932542976, 129110040087761027839616029934664535539337183380513, 11756638905368616011414050501310355554617941909569536, 1102507499354148695951786433413508348166942596435546875, 106387358923716524807713475752456393740167855629859291136, 10555134955777783414078330085995832946127396083370199442517, 1075911801979993982060429252856123779115487368830416064610304, 112595147462071192539789448988889059930192105219196517009951959, 12089258196146291747061760000000000000000000000000000000000000000, 1330877630632711998713399240963346255985889330161650994325137953641, 150130937545296572356771972164254457814047970568738777235893533016064, 17343773367030267519903781288812032158308062539012091953077767198995507, 2050773823560610053645205609172376035486179836520607547294916966189367296, 248063644451341145494649182395412689744530581492654164321720600128173828125, 30680346300794274230660433647640397899788170645078853280082659754365153181696, 3877924263464448622666648186154330754898344901344205917642325627886496385062863, 500702078263459319174537025249570888246709955377400223021257741084821677152403456, 66009724686219550843768321818371771650147004059278069406814190436565131829325062449, 8881784197001252323389053344726562500000000000000000000000000000000000000000000000000]\n"
     ]
    }
   ],
   "source": [
    "x=[s**s for s in range(1,51) ]\n",
    "print(x)\n",
    "##squar of 1 to 50 number"
   ]
  },
  {
   "cell_type": "code",
   "execution_count": 25,
   "metadata": {},
   "outputs": [
    {
     "name": "stdout",
     "output_type": "stream",
     "text": [
      "['a', 'b', 'c', 'd', 'e', 'f', 'g', 'h', 'i', 'j', 'k', 'l', 'm', 'n', 'o', 'p', 'q', 'r', 's', 't', 'u', 'v', 'w', 'x', 'y', 'z']\n"
     ]
    }
   ],
   "source": [
    "x = [ chr(a) for a in range(ord('a'),ord('z')+1)]\n",
    "print( x)"
   ]
  },
  {
   "cell_type": "code",
   "execution_count": 2,
   "metadata": {},
   "outputs": [
    {
     "name": "stdout",
     "output_type": "stream",
     "text": [
      "[12, 13, 14, 15, 16, 17, 18]\n"
     ]
    }
   ],
   "source": [
    "d=[12,13,14,15,16,17,18]\n",
    "print(d)"
   ]
  },
  {
   "cell_type": "code",
   "execution_count": 15,
   "metadata": {},
   "outputs": [
    {
     "name": "stdout",
     "output_type": "stream",
     "text": [
      "please enter an integer: -1\n",
      "Negative changed to zero\n"
     ]
    }
   ],
   "source": [
    "x = int(input(\"please enter an integer: \"))\n",
    "if x < 0:\n",
    "    print('Negative changed to zero')\n",
    "elif x ==0:\n",
    "     print('Zero')\n",
    "elif x == 1:\n",
    "         print('Single')\n",
    "else:\n",
    "         print('More')\n",
    "\n"
   ]
  },
  {
   "cell_type": "code",
   "execution_count": 19,
   "metadata": {},
   "outputs": [
    {
     "name": "stdout",
     "output_type": "stream",
     "text": [
      "chandra 7\n",
      "prakash 7\n",
      "rohit 5\n"
     ]
    }
   ],
   "source": [
    "word = ['chandra','prakash','rohit']\n",
    "for w in word:\n",
    "    print(w,len(w))"
   ]
  },
  {
   "cell_type": "code",
   "execution_count": 28,
   "metadata": {},
   "outputs": [
    {
     "name": "stdout",
     "output_type": "stream",
     "text": [
      "['prakash', 'rohit', 'prakash', 'chandra', 'chandra', 'prakash', 'prakash', 'chandra', 'chandra', 'prakash', 'prakash', 'chandra', 'chandra', 'prakash', 'prakash', 'chandra', 'chandra', 'prakash', 'rohit', 'rohit', 'prakash', 'chandra', 'chandra', 'prakash', 'prakash', 'chandra', 'chandra', 'prakash', 'prakash', 'chandra', 'chandra', 'prakash', 'prakash', 'chandra', 'chandra', 'prakash', 'rohit']\n",
      "['chandra', 'prakash', 'rohit', 'prakash', 'chandra', 'chandra', 'prakash', 'prakash', 'chandra', 'chandra', 'prakash', 'prakash', 'chandra', 'chandra', 'prakash', 'prakash', 'chandra', 'chandra', 'prakash', 'rohit', 'rohit', 'prakash', 'chandra', 'chandra', 'prakash', 'prakash', 'chandra', 'chandra', 'prakash', 'prakash', 'chandra', 'chandra', 'prakash', 'prakash', 'chandra', 'chandra', 'prakash', 'rohit']\n",
      "['chandra', 'chandra', 'prakash', 'rohit', 'prakash', 'chandra', 'chandra', 'prakash', 'prakash', 'chandra', 'chandra', 'prakash', 'prakash', 'chandra', 'chandra', 'prakash', 'prakash', 'chandra', 'chandra', 'prakash', 'rohit', 'rohit', 'prakash', 'chandra', 'chandra', 'prakash', 'prakash', 'chandra', 'chandra', 'prakash', 'prakash', 'chandra', 'chandra', 'prakash', 'prakash', 'chandra', 'chandra', 'prakash', 'rohit']\n",
      "['prakash', 'chandra', 'chandra', 'prakash', 'rohit', 'prakash', 'chandra', 'chandra', 'prakash', 'prakash', 'chandra', 'chandra', 'prakash', 'prakash', 'chandra', 'chandra', 'prakash', 'prakash', 'chandra', 'chandra', 'prakash', 'rohit', 'rohit', 'prakash', 'chandra', 'chandra', 'prakash', 'prakash', 'chandra', 'chandra', 'prakash', 'prakash', 'chandra', 'chandra', 'prakash', 'prakash', 'chandra', 'chandra', 'prakash', 'rohit']\n",
      "['prakash', 'prakash', 'chandra', 'chandra', 'prakash', 'rohit', 'prakash', 'chandra', 'chandra', 'prakash', 'prakash', 'chandra', 'chandra', 'prakash', 'prakash', 'chandra', 'chandra', 'prakash', 'prakash', 'chandra', 'chandra', 'prakash', 'rohit', 'rohit', 'prakash', 'chandra', 'chandra', 'prakash', 'prakash', 'chandra', 'chandra', 'prakash', 'prakash', 'chandra', 'chandra', 'prakash', 'prakash', 'chandra', 'chandra', 'prakash', 'rohit']\n",
      "['chandra', 'prakash', 'prakash', 'chandra', 'chandra', 'prakash', 'rohit', 'prakash', 'chandra', 'chandra', 'prakash', 'prakash', 'chandra', 'chandra', 'prakash', 'prakash', 'chandra', 'chandra', 'prakash', 'prakash', 'chandra', 'chandra', 'prakash', 'rohit', 'rohit', 'prakash', 'chandra', 'chandra', 'prakash', 'prakash', 'chandra', 'chandra', 'prakash', 'prakash', 'chandra', 'chandra', 'prakash', 'prakash', 'chandra', 'chandra', 'prakash', 'rohit']\n",
      "['chandra', 'chandra', 'prakash', 'prakash', 'chandra', 'chandra', 'prakash', 'rohit', 'prakash', 'chandra', 'chandra', 'prakash', 'prakash', 'chandra', 'chandra', 'prakash', 'prakash', 'chandra', 'chandra', 'prakash', 'prakash', 'chandra', 'chandra', 'prakash', 'rohit', 'rohit', 'prakash', 'chandra', 'chandra', 'prakash', 'prakash', 'chandra', 'chandra', 'prakash', 'prakash', 'chandra', 'chandra', 'prakash', 'prakash', 'chandra', 'chandra', 'prakash', 'rohit']\n",
      "['prakash', 'chandra', 'chandra', 'prakash', 'prakash', 'chandra', 'chandra', 'prakash', 'rohit', 'prakash', 'chandra', 'chandra', 'prakash', 'prakash', 'chandra', 'chandra', 'prakash', 'prakash', 'chandra', 'chandra', 'prakash', 'prakash', 'chandra', 'chandra', 'prakash', 'rohit', 'rohit', 'prakash', 'chandra', 'chandra', 'prakash', 'prakash', 'chandra', 'chandra', 'prakash', 'prakash', 'chandra', 'chandra', 'prakash', 'prakash', 'chandra', 'chandra', 'prakash', 'rohit']\n",
      "['prakash', 'prakash', 'chandra', 'chandra', 'prakash', 'prakash', 'chandra', 'chandra', 'prakash', 'rohit', 'prakash', 'chandra', 'chandra', 'prakash', 'prakash', 'chandra', 'chandra', 'prakash', 'prakash', 'chandra', 'chandra', 'prakash', 'prakash', 'chandra', 'chandra', 'prakash', 'rohit', 'rohit', 'prakash', 'chandra', 'chandra', 'prakash', 'prakash', 'chandra', 'chandra', 'prakash', 'prakash', 'chandra', 'chandra', 'prakash', 'prakash', 'chandra', 'chandra', 'prakash', 'rohit']\n",
      "['chandra', 'prakash', 'prakash', 'chandra', 'chandra', 'prakash', 'prakash', 'chandra', 'chandra', 'prakash', 'rohit', 'prakash', 'chandra', 'chandra', 'prakash', 'prakash', 'chandra', 'chandra', 'prakash', 'prakash', 'chandra', 'chandra', 'prakash', 'prakash', 'chandra', 'chandra', 'prakash', 'rohit', 'rohit', 'prakash', 'chandra', 'chandra', 'prakash', 'prakash', 'chandra', 'chandra', 'prakash', 'prakash', 'chandra', 'chandra', 'prakash', 'prakash', 'chandra', 'chandra', 'prakash', 'rohit']\n",
      "['chandra', 'chandra', 'prakash', 'prakash', 'chandra', 'chandra', 'prakash', 'prakash', 'chandra', 'chandra', 'prakash', 'rohit', 'prakash', 'chandra', 'chandra', 'prakash', 'prakash', 'chandra', 'chandra', 'prakash', 'prakash', 'chandra', 'chandra', 'prakash', 'prakash', 'chandra', 'chandra', 'prakash', 'rohit', 'rohit', 'prakash', 'chandra', 'chandra', 'prakash', 'prakash', 'chandra', 'chandra', 'prakash', 'prakash', 'chandra', 'chandra', 'prakash', 'prakash', 'chandra', 'chandra', 'prakash', 'rohit']\n",
      "['prakash', 'chandra', 'chandra', 'prakash', 'prakash', 'chandra', 'chandra', 'prakash', 'prakash', 'chandra', 'chandra', 'prakash', 'rohit', 'prakash', 'chandra', 'chandra', 'prakash', 'prakash', 'chandra', 'chandra', 'prakash', 'prakash', 'chandra', 'chandra', 'prakash', 'prakash', 'chandra', 'chandra', 'prakash', 'rohit', 'rohit', 'prakash', 'chandra', 'chandra', 'prakash', 'prakash', 'chandra', 'chandra', 'prakash', 'prakash', 'chandra', 'chandra', 'prakash', 'prakash', 'chandra', 'chandra', 'prakash', 'rohit']\n",
      "['prakash', 'prakash', 'chandra', 'chandra', 'prakash', 'prakash', 'chandra', 'chandra', 'prakash', 'prakash', 'chandra', 'chandra', 'prakash', 'rohit', 'prakash', 'chandra', 'chandra', 'prakash', 'prakash', 'chandra', 'chandra', 'prakash', 'prakash', 'chandra', 'chandra', 'prakash', 'prakash', 'chandra', 'chandra', 'prakash', 'rohit', 'rohit', 'prakash', 'chandra', 'chandra', 'prakash', 'prakash', 'chandra', 'chandra', 'prakash', 'prakash', 'chandra', 'chandra', 'prakash', 'prakash', 'chandra', 'chandra', 'prakash', 'rohit']\n",
      "['chandra', 'prakash', 'prakash', 'chandra', 'chandra', 'prakash', 'prakash', 'chandra', 'chandra', 'prakash', 'prakash', 'chandra', 'chandra', 'prakash', 'rohit', 'prakash', 'chandra', 'chandra', 'prakash', 'prakash', 'chandra', 'chandra', 'prakash', 'prakash', 'chandra', 'chandra', 'prakash', 'prakash', 'chandra', 'chandra', 'prakash', 'rohit', 'rohit', 'prakash', 'chandra', 'chandra', 'prakash', 'prakash', 'chandra', 'chandra', 'prakash', 'prakash', 'chandra', 'chandra', 'prakash', 'prakash', 'chandra', 'chandra', 'prakash', 'rohit']\n",
      "['chandra', 'chandra', 'prakash', 'prakash', 'chandra', 'chandra', 'prakash', 'prakash', 'chandra', 'chandra', 'prakash', 'prakash', 'chandra', 'chandra', 'prakash', 'rohit', 'prakash', 'chandra', 'chandra', 'prakash', 'prakash', 'chandra', 'chandra', 'prakash', 'prakash', 'chandra', 'chandra', 'prakash', 'prakash', 'chandra', 'chandra', 'prakash', 'rohit', 'rohit', 'prakash', 'chandra', 'chandra', 'prakash', 'prakash', 'chandra', 'chandra', 'prakash', 'prakash', 'chandra', 'chandra', 'prakash', 'prakash', 'chandra', 'chandra', 'prakash', 'rohit']\n",
      "['prakash', 'chandra', 'chandra', 'prakash', 'prakash', 'chandra', 'chandra', 'prakash', 'prakash', 'chandra', 'chandra', 'prakash', 'prakash', 'chandra', 'chandra', 'prakash', 'rohit', 'prakash', 'chandra', 'chandra', 'prakash', 'prakash', 'chandra', 'chandra', 'prakash', 'prakash', 'chandra', 'chandra', 'prakash', 'prakash', 'chandra', 'chandra', 'prakash', 'rohit', 'rohit', 'prakash', 'chandra', 'chandra', 'prakash', 'prakash', 'chandra', 'chandra', 'prakash', 'prakash', 'chandra', 'chandra', 'prakash', 'prakash', 'chandra', 'chandra', 'prakash', 'rohit']\n",
      "['prakash', 'prakash', 'chandra', 'chandra', 'prakash', 'prakash', 'chandra', 'chandra', 'prakash', 'prakash', 'chandra', 'chandra', 'prakash', 'prakash', 'chandra', 'chandra', 'prakash', 'rohit', 'prakash', 'chandra', 'chandra', 'prakash', 'prakash', 'chandra', 'chandra', 'prakash', 'prakash', 'chandra', 'chandra', 'prakash', 'prakash', 'chandra', 'chandra', 'prakash', 'rohit', 'rohit', 'prakash', 'chandra', 'chandra', 'prakash', 'prakash', 'chandra', 'chandra', 'prakash', 'prakash', 'chandra', 'chandra', 'prakash', 'prakash', 'chandra', 'chandra', 'prakash', 'rohit']\n",
      "['chandra', 'prakash', 'prakash', 'chandra', 'chandra', 'prakash', 'prakash', 'chandra', 'chandra', 'prakash', 'prakash', 'chandra', 'chandra', 'prakash', 'prakash', 'chandra', 'chandra', 'prakash', 'rohit', 'prakash', 'chandra', 'chandra', 'prakash', 'prakash', 'chandra', 'chandra', 'prakash', 'prakash', 'chandra', 'chandra', 'prakash', 'prakash', 'chandra', 'chandra', 'prakash', 'rohit', 'rohit', 'prakash', 'chandra', 'chandra', 'prakash', 'prakash', 'chandra', 'chandra', 'prakash', 'prakash', 'chandra', 'chandra', 'prakash', 'prakash', 'chandra', 'chandra', 'prakash', 'rohit']\n",
      "['chandra', 'chandra', 'prakash', 'prakash', 'chandra', 'chandra', 'prakash', 'prakash', 'chandra', 'chandra', 'prakash', 'prakash', 'chandra', 'chandra', 'prakash', 'prakash', 'chandra', 'chandra', 'prakash', 'rohit', 'prakash', 'chandra', 'chandra', 'prakash', 'prakash', 'chandra', 'chandra', 'prakash', 'prakash', 'chandra', 'chandra', 'prakash', 'prakash', 'chandra', 'chandra', 'prakash', 'rohit', 'rohit', 'prakash', 'chandra', 'chandra', 'prakash', 'prakash', 'chandra', 'chandra', 'prakash', 'prakash', 'chandra', 'chandra', 'prakash', 'prakash', 'chandra', 'chandra', 'prakash', 'rohit']\n",
      "['prakash', 'chandra', 'chandra', 'prakash', 'prakash', 'chandra', 'chandra', 'prakash', 'prakash', 'chandra', 'chandra', 'prakash', 'prakash', 'chandra', 'chandra', 'prakash', 'prakash', 'chandra', 'chandra', 'prakash', 'rohit', 'prakash', 'chandra', 'chandra', 'prakash', 'prakash', 'chandra', 'chandra', 'prakash', 'prakash', 'chandra', 'chandra', 'prakash', 'prakash', 'chandra', 'chandra', 'prakash', 'rohit', 'rohit', 'prakash', 'chandra', 'chandra', 'prakash', 'prakash', 'chandra', 'chandra', 'prakash', 'prakash', 'chandra', 'chandra', 'prakash', 'prakash', 'chandra', 'chandra', 'prakash', 'rohit']\n",
      "['prakash', 'prakash', 'chandra', 'chandra', 'prakash', 'prakash', 'chandra', 'chandra', 'prakash', 'prakash', 'chandra', 'chandra', 'prakash', 'prakash', 'chandra', 'chandra', 'prakash', 'prakash', 'chandra', 'chandra', 'prakash', 'rohit', 'prakash', 'chandra', 'chandra', 'prakash', 'prakash', 'chandra', 'chandra', 'prakash', 'prakash', 'chandra', 'chandra', 'prakash', 'prakash', 'chandra', 'chandra', 'prakash', 'rohit', 'rohit', 'prakash', 'chandra', 'chandra', 'prakash', 'prakash', 'chandra', 'chandra', 'prakash', 'prakash', 'chandra', 'chandra', 'prakash', 'prakash', 'chandra', 'chandra', 'prakash', 'rohit']\n",
      "['chandra', 'prakash', 'prakash', 'chandra', 'chandra', 'prakash', 'prakash', 'chandra', 'chandra', 'prakash', 'prakash', 'chandra', 'chandra', 'prakash', 'prakash', 'chandra', 'chandra', 'prakash', 'prakash', 'chandra', 'chandra', 'prakash', 'rohit', 'prakash', 'chandra', 'chandra', 'prakash', 'prakash', 'chandra', 'chandra', 'prakash', 'prakash', 'chandra', 'chandra', 'prakash', 'prakash', 'chandra', 'chandra', 'prakash', 'rohit', 'rohit', 'prakash', 'chandra', 'chandra', 'prakash', 'prakash', 'chandra', 'chandra', 'prakash', 'prakash', 'chandra', 'chandra', 'prakash', 'prakash', 'chandra', 'chandra', 'prakash', 'rohit']\n",
      "['chandra', 'chandra', 'prakash', 'prakash', 'chandra', 'chandra', 'prakash', 'prakash', 'chandra', 'chandra', 'prakash', 'prakash', 'chandra', 'chandra', 'prakash', 'prakash', 'chandra', 'chandra', 'prakash', 'prakash', 'chandra', 'chandra', 'prakash', 'rohit', 'prakash', 'chandra', 'chandra', 'prakash', 'prakash', 'chandra', 'chandra', 'prakash', 'prakash', 'chandra', 'chandra', 'prakash', 'prakash', 'chandra', 'chandra', 'prakash', 'rohit', 'rohit', 'prakash', 'chandra', 'chandra', 'prakash', 'prakash', 'chandra', 'chandra', 'prakash', 'prakash', 'chandra', 'chandra', 'prakash', 'prakash', 'chandra', 'chandra', 'prakash', 'rohit']\n",
      "['prakash', 'chandra', 'chandra', 'prakash', 'prakash', 'chandra', 'chandra', 'prakash', 'prakash', 'chandra', 'chandra', 'prakash', 'prakash', 'chandra', 'chandra', 'prakash', 'prakash', 'chandra', 'chandra', 'prakash', 'prakash', 'chandra', 'chandra', 'prakash', 'rohit', 'prakash', 'chandra', 'chandra', 'prakash', 'prakash', 'chandra', 'chandra', 'prakash', 'prakash', 'chandra', 'chandra', 'prakash', 'prakash', 'chandra', 'chandra', 'prakash', 'rohit', 'rohit', 'prakash', 'chandra', 'chandra', 'prakash', 'prakash', 'chandra', 'chandra', 'prakash', 'prakash', 'chandra', 'chandra', 'prakash', 'prakash', 'chandra', 'chandra', 'prakash', 'rohit']\n",
      "['prakash', 'prakash', 'chandra', 'chandra', 'prakash', 'prakash', 'chandra', 'chandra', 'prakash', 'prakash', 'chandra', 'chandra', 'prakash', 'prakash', 'chandra', 'chandra', 'prakash', 'prakash', 'chandra', 'chandra', 'prakash', 'prakash', 'chandra', 'chandra', 'prakash', 'rohit', 'prakash', 'chandra', 'chandra', 'prakash', 'prakash', 'chandra', 'chandra', 'prakash', 'prakash', 'chandra', 'chandra', 'prakash', 'prakash', 'chandra', 'chandra', 'prakash', 'rohit', 'rohit', 'prakash', 'chandra', 'chandra', 'prakash', 'prakash', 'chandra', 'chandra', 'prakash', 'prakash', 'chandra', 'chandra', 'prakash', 'prakash', 'chandra', 'chandra', 'prakash', 'rohit']\n",
      "['chandra', 'prakash', 'prakash', 'chandra', 'chandra', 'prakash', 'prakash', 'chandra', 'chandra', 'prakash', 'prakash', 'chandra', 'chandra', 'prakash', 'prakash', 'chandra', 'chandra', 'prakash', 'prakash', 'chandra', 'chandra', 'prakash', 'prakash', 'chandra', 'chandra', 'prakash', 'rohit', 'prakash', 'chandra', 'chandra', 'prakash', 'prakash', 'chandra', 'chandra', 'prakash', 'prakash', 'chandra', 'chandra', 'prakash', 'prakash', 'chandra', 'chandra', 'prakash', 'rohit', 'rohit', 'prakash', 'chandra', 'chandra', 'prakash', 'prakash', 'chandra', 'chandra', 'prakash', 'prakash', 'chandra', 'chandra', 'prakash', 'prakash', 'chandra', 'chandra', 'prakash', 'rohit']\n",
      "['chandra', 'chandra', 'prakash', 'prakash', 'chandra', 'chandra', 'prakash', 'prakash', 'chandra', 'chandra', 'prakash', 'prakash', 'chandra', 'chandra', 'prakash', 'prakash', 'chandra', 'chandra', 'prakash', 'prakash', 'chandra', 'chandra', 'prakash', 'prakash', 'chandra', 'chandra', 'prakash', 'rohit', 'prakash', 'chandra', 'chandra', 'prakash', 'prakash', 'chandra', 'chandra', 'prakash', 'prakash', 'chandra', 'chandra', 'prakash', 'prakash', 'chandra', 'chandra', 'prakash', 'rohit', 'rohit', 'prakash', 'chandra', 'chandra', 'prakash', 'prakash', 'chandra', 'chandra', 'prakash', 'prakash', 'chandra', 'chandra', 'prakash', 'prakash', 'chandra', 'chandra', 'prakash', 'rohit']\n",
      "['prakash', 'chandra', 'chandra', 'prakash', 'prakash', 'chandra', 'chandra', 'prakash', 'prakash', 'chandra', 'chandra', 'prakash', 'prakash', 'chandra', 'chandra', 'prakash', 'prakash', 'chandra', 'chandra', 'prakash', 'prakash', 'chandra', 'chandra', 'prakash', 'prakash', 'chandra', 'chandra', 'prakash', 'rohit', 'prakash', 'chandra', 'chandra', 'prakash', 'prakash', 'chandra', 'chandra', 'prakash', 'prakash', 'chandra', 'chandra', 'prakash', 'prakash', 'chandra', 'chandra', 'prakash', 'rohit', 'rohit', 'prakash', 'chandra', 'chandra', 'prakash', 'prakash', 'chandra', 'chandra', 'prakash', 'prakash', 'chandra', 'chandra', 'prakash', 'prakash', 'chandra', 'chandra', 'prakash', 'rohit']\n",
      "['prakash', 'prakash', 'chandra', 'chandra', 'prakash', 'prakash', 'chandra', 'chandra', 'prakash', 'prakash', 'chandra', 'chandra', 'prakash', 'prakash', 'chandra', 'chandra', 'prakash', 'prakash', 'chandra', 'chandra', 'prakash', 'prakash', 'chandra', 'chandra', 'prakash', 'prakash', 'chandra', 'chandra', 'prakash', 'rohit', 'prakash', 'chandra', 'chandra', 'prakash', 'prakash', 'chandra', 'chandra', 'prakash', 'prakash', 'chandra', 'chandra', 'prakash', 'prakash', 'chandra', 'chandra', 'prakash', 'rohit', 'rohit', 'prakash', 'chandra', 'chandra', 'prakash', 'prakash', 'chandra', 'chandra', 'prakash', 'prakash', 'chandra', 'chandra', 'prakash', 'prakash', 'chandra', 'chandra', 'prakash', 'rohit']\n",
      "['chandra', 'prakash', 'prakash', 'chandra', 'chandra', 'prakash', 'prakash', 'chandra', 'chandra', 'prakash', 'prakash', 'chandra', 'chandra', 'prakash', 'prakash', 'chandra', 'chandra', 'prakash', 'prakash', 'chandra', 'chandra', 'prakash', 'prakash', 'chandra', 'chandra', 'prakash', 'prakash', 'chandra', 'chandra', 'prakash', 'rohit', 'prakash', 'chandra', 'chandra', 'prakash', 'prakash', 'chandra', 'chandra', 'prakash', 'prakash', 'chandra', 'chandra', 'prakash', 'prakash', 'chandra', 'chandra', 'prakash', 'rohit', 'rohit', 'prakash', 'chandra', 'chandra', 'prakash', 'prakash', 'chandra', 'chandra', 'prakash', 'prakash', 'chandra', 'chandra', 'prakash', 'prakash', 'chandra', 'chandra', 'prakash', 'rohit']\n",
      "['chandra', 'chandra', 'prakash', 'prakash', 'chandra', 'chandra', 'prakash', 'prakash', 'chandra', 'chandra', 'prakash', 'prakash', 'chandra', 'chandra', 'prakash', 'prakash', 'chandra', 'chandra', 'prakash', 'prakash', 'chandra', 'chandra', 'prakash', 'prakash', 'chandra', 'chandra', 'prakash', 'prakash', 'chandra', 'chandra', 'prakash', 'rohit', 'prakash', 'chandra', 'chandra', 'prakash', 'prakash', 'chandra', 'chandra', 'prakash', 'prakash', 'chandra', 'chandra', 'prakash', 'prakash', 'chandra', 'chandra', 'prakash', 'rohit', 'rohit', 'prakash', 'chandra', 'chandra', 'prakash', 'prakash', 'chandra', 'chandra', 'prakash', 'prakash', 'chandra', 'chandra', 'prakash', 'prakash', 'chandra', 'chandra', 'prakash', 'rohit']\n",
      "['prakash', 'chandra', 'chandra', 'prakash', 'prakash', 'chandra', 'chandra', 'prakash', 'prakash', 'chandra', 'chandra', 'prakash', 'prakash', 'chandra', 'chandra', 'prakash', 'prakash', 'chandra', 'chandra', 'prakash', 'prakash', 'chandra', 'chandra', 'prakash', 'prakash', 'chandra', 'chandra', 'prakash', 'prakash', 'chandra', 'chandra', 'prakash', 'rohit', 'prakash', 'chandra', 'chandra', 'prakash', 'prakash', 'chandra', 'chandra', 'prakash', 'prakash', 'chandra', 'chandra', 'prakash', 'prakash', 'chandra', 'chandra', 'prakash', 'rohit', 'rohit', 'prakash', 'chandra', 'chandra', 'prakash', 'prakash', 'chandra', 'chandra', 'prakash', 'prakash', 'chandra', 'chandra', 'prakash', 'prakash', 'chandra', 'chandra', 'prakash', 'rohit']\n"
     ]
    }
   ],
   "source": [
    "for w in word [:]:\n",
    "    if len(w)>6:\n",
    "        word.insert(0,w)\n",
    "        print(word)"
   ]
  },
  {
   "cell_type": "code",
   "execution_count": 35,
   "metadata": {},
   "outputs": [
    {
     "name": "stdout",
     "output_type": "stream",
     "text": [
      "0\n",
      "3\n",
      "6\n",
      "9\n"
     ]
    }
   ],
   "source": [
    "for i in range(0,10,3):\n",
    "    print(i)"
   ]
  },
  {
   "cell_type": "code",
   "execution_count": 36,
   "metadata": {},
   "outputs": [
    {
     "name": "stdout",
     "output_type": "stream",
     "text": [
      "range(0, 10)\n"
     ]
    }
   ],
   "source": [
    "print(range(10))"
   ]
  },
  {
   "cell_type": "code",
   "execution_count": 41,
   "metadata": {},
   "outputs": [
    {
     "data": {
      "text/plain": [
       "[0, 1, 2, 3, 4, 5, 6, 7, 8, 9]"
      ]
     },
     "execution_count": 41,
     "metadata": {},
     "output_type": "execute_result"
    }
   ],
   "source": [
    "list(range(10))"
   ]
  },
  {
   "cell_type": "code",
   "execution_count": 42,
   "metadata": {},
   "outputs": [
    {
     "name": "stdout",
     "output_type": "stream",
     "text": [
      "[0, 1, 2, 3, 4, 5, 6, 7, 8, 9]\n"
     ]
    }
   ],
   "source": [
    "print(list(range(10)))"
   ]
  },
  {
   "cell_type": "code",
   "execution_count": 45,
   "metadata": {},
   "outputs": [
    {
     "name": "stdout",
     "output_type": "stream",
     "text": [
      "3 is a prime number\n",
      "4 equals 2 * 2\n",
      "5 is a prime number\n",
      "5 is a prime number\n",
      "5 is a prime number\n",
      "6 equals 2 * 3\n",
      "7 is a prime number\n",
      "7 is a prime number\n",
      "7 is a prime number\n",
      "7 is a prime number\n",
      "7 is a prime number\n",
      "8 equals 2 * 4\n",
      "9 is a prime number\n",
      "9 equals 3 * 3\n"
     ]
    }
   ],
   "source": [
    "for n in range(2,10):\n",
    "    for x in range(2,n):\n",
    "        if n % x == 0 :\n",
    "            print(n,'equals', x, '*', n//x)\n",
    "            break\n",
    "        else:\n",
    "                print(n, 'is a prime number')"
   ]
  },
  {
   "cell_type": "code",
   "execution_count": 34,
   "metadata": {},
   "outputs": [
    {
     "name": "stdout",
     "output_type": "stream",
     "text": [
      "chandra\n",
      "first no is 5 \n",
      "10 chandra \n",
      "hi\n"
     ]
    }
   ],
   "source": [
    "def swap(a,b):\n",
    "    '''\n",
    "    this is swap program !\n",
    "    '''\n",
    "    print(\"chandra\")\n",
    "    return b,a\n",
    "\n",
    "x=10\n",
    "y=5\n",
    "x,y= swap(x,y)\n",
    "print (\"first no is \" +  str(x) + \" \\n\" + str(y),end=\" chandra \\n\")\n",
    "print('hi')\n"
   ]
  },
  {
   "cell_type": "markdown",
   "metadata": {
    "collapsed": true
   },
   "source": [
    "# Will be start function & some looping\n"
   ]
  },
  {
   "cell_type": "code",
   "execution_count": 2,
   "metadata": {},
   "outputs": [
    {
     "name": "stdout",
     "output_type": "stream",
     "text": [
      " found even number 2\n",
      " found odd number 3\n",
      " found even number 4\n",
      " found odd number 5\n",
      " found even number 6\n",
      " found odd number 7\n",
      " found even number 8\n",
      " found odd number 9\n"
     ]
    }
   ],
   "source": [
    "for num in range(2,10):\n",
    "    if num % 2 ==0:\n",
    "        print(\" found even number\", num)\n",
    "        continue\n",
    "    print(\" found odd number\", num)"
   ]
  },
  {
   "cell_type": "code",
   "execution_count": 11,
   "metadata": {
    "scrolled": true
   },
   "outputs": [
    {
     "name": "stdout",
     "output_type": "stream",
     "text": [
      "0 1 1 2 3 5 8 13 21 34 55 89 144 233 377 610 987 1597 \n"
     ]
    }
   ],
   "source": [
    "def fun(n):\n",
    "    a,b = 0,1\n",
    "    while a<n:\n",
    "        print(a,end=' ')\n",
    "        a, b = b, a+b\n",
    "    print()\n",
    "fun(2000)"
   ]
  },
  {
   "cell_type": "code",
   "execution_count": 4,
   "metadata": {},
   "outputs": [
    {
     "name": "stdout",
     "output_type": "stream",
     "text": [
      "dict_keys(['name', 'id', 'vau'])\n",
      "dict_values(['chanda', 100, 'ram'])\n"
     ]
    }
   ],
   "source": [
    "dictionary = {'name':'chanda','id':100,'vau':'ram'}\n",
    "print(dictionary.keys())\n",
    "print(dictionary.values())"
   ]
  },
  {
   "cell_type": "code",
   "execution_count": 28,
   "metadata": {},
   "outputs": [
    {
     "name": "stdout",
     "output_type": "stream",
     "text": [
      "1 \n",
      "2 2 \n",
      "3 3 3 \n",
      "4 4 4 4 \n",
      "5 5 5 5 5 \n"
     ]
    }
   ],
   "source": [
    "for x in range(1,6):\n",
    "    for y in range(1,x+1):\n",
    "        print(x,end=\" \")\n",
    "    print( )"
   ]
  },
  {
   "cell_type": "code",
   "execution_count": 29,
   "metadata": {},
   "outputs": [
    {
     "name": "stdout",
     "output_type": "stream",
     "text": [
      "* * * * * \n",
      "* * * * \n",
      "* * * \n",
      "* * \n",
      "* \n"
     ]
    }
   ],
   "source": [
    "for i in range(1,6):\n",
    "    for j in range(5,i-1,-1):\n",
    "        print('*' ,end=\" \")\n",
    "    print()"
   ]
  },
  {
   "cell_type": "code",
   "execution_count": 30,
   "metadata": {},
   "outputs": [
    {
     "name": "stdout",
     "output_type": "stream",
     "text": [
      "* \n",
      "* * \n",
      "* * * \n",
      "* * * * \n",
      "* * * * * \n"
     ]
    }
   ],
   "source": [
    "for i in range(1,6):\n",
    "    for j in range(1,i+1):\n",
    "        print(\"*\",end = ' ')\n",
    "    print()"
   ]
  },
  {
   "cell_type": "code",
   "execution_count": 36,
   "metadata": {},
   "outputs": [
    {
     "name": "stdout",
     "output_type": "stream",
     "text": [
      "Value of a is 10 chandra prakash\n",
      "Value of a is 8 chandra prakash\n",
      "Value of a is 6 chandra prakash\n",
      "Value of a is 4 chandra prakash\n",
      "Value of a is 2 chandra prakash\n"
     ]
    }
   ],
   "source": [
    "a=10  \n",
    "while a>0:  \n",
    "    print (\"Value of a is\",a ,\"chandra prakash\")  \n",
    "    a=a-2 "
   ]
  },
  {
   "cell_type": "code",
   "execution_count": 40,
   "metadata": {},
   "outputs": [
    {
     "name": "stdout",
     "output_type": "stream",
     "text": [
      "9.999999999999998\n"
     ]
    }
   ],
   "source": [
    "n=153\n",
    "sum = 0\n",
    "while n > 0:\n",
    "    r = n%10\n",
    "    sum +=r\n",
    "    n = n/10\n",
    "print(sum)"
   ]
  },
  {
   "cell_type": "code",
   "execution_count": 44,
   "metadata": {},
   "outputs": [
    {
     "name": "stdout",
     "output_type": "stream",
     "text": [
      "1\n",
      "2\n",
      "3\n",
      "4\n",
      "radeon\n",
      "6\n",
      "7\n",
      "8\n",
      "9\n"
     ]
    }
   ],
   "source": [
    "for i in [1,2,3,4,5,6,7,8,9]:\n",
    "    if i==5:\n",
    "        print(\"radeon\")\n",
    "        continue\n",
    "    print(i)"
   ]
  },
  {
   "cell_type": "code",
   "execution_count": 43,
   "metadata": {},
   "outputs": [
    {
     "name": "stdout",
     "output_type": "stream",
     "text": [
      "1\n",
      "2\n",
      "3\n",
      "4\n",
      "radeon\n"
     ]
    }
   ],
   "source": [
    "for i in [1,2,3,4,5,6,7,8,9]:\n",
    "    if i==5:\n",
    "        print(\"radeon\")\n",
    "        break\n",
    "    print(i)"
   ]
  },
  {
   "cell_type": "code",
   "execution_count": 46,
   "metadata": {},
   "outputs": [
    {
     "name": "stdout",
     "output_type": "stream",
     "text": [
      "1\n",
      "2\n",
      "3\n",
      "4\n",
      "radeon\n",
      "5\n",
      "6\n",
      "7\n",
      "8\n",
      "9\n"
     ]
    }
   ],
   "source": [
    "for i in [1,2,3,4,5,6,7,8,9]:\n",
    "    if i==5:\n",
    "        pass\n",
    "        print(\"radeon\")\n",
    "    print(i)"
   ]
  },
  {
   "cell_type": "code",
   "execution_count": 2,
   "metadata": {},
   "outputs": [
    {
     "name": "stdout",
     "output_type": "stream",
     "text": [
      "1\n",
      "2\n",
      "3\n",
      "python\n",
      "67\n",
      "[4, 5]\n"
     ]
    }
   ],
   "source": [
    "my_list = [1, 2, 3, \"python\", 67,  [4, 5]]\n",
    "for item in my_list:\n",
    "    print(item)"
   ]
  },
  {
   "cell_type": "code",
   "execution_count": 4,
   "metadata": {},
   "outputs": [
    {
     "name": "stdout",
     "output_type": "stream",
     "text": [
      "0 1 1 2 3 5 8 13 21 34 55 89 144 233 377 610 987 1597 \n"
     ]
    }
   ],
   "source": [
    "def fun(n):\n",
    "    a,b = 0,1\n",
    "    while a<n:\n",
    "        print(a,end=' ')\n",
    "        a, b = b, a+b\n",
    "    print()\n",
    "fun(2000)"
   ]
  },
  {
   "cell_type": "code",
   "execution_count": 5,
   "metadata": {},
   "outputs": [
    {
     "name": "stdout",
     "output_type": "stream",
     "text": [
      "0 1 1 2 3 5 8 13 21 34 55 89 144 233 \n"
     ]
    }
   ],
   "source": [
    "fun(300)"
   ]
  },
  {
   "cell_type": "code",
   "execution_count": 6,
   "metadata": {},
   "outputs": [
    {
     "name": "stdout",
     "output_type": "stream",
     "text": [
      "0 1 1 2 3 5 8 13 21 34 55 89 144 233 377 610 \n"
     ]
    }
   ],
   "source": [
    "f= fun\n",
    "f(800)"
   ]
  },
  {
   "cell_type": "code",
   "execution_count": 7,
   "metadata": {},
   "outputs": [
    {
     "data": {
      "text/plain": [
       "<function __main__.fun>"
      ]
     },
     "execution_count": 7,
     "metadata": {},
     "output_type": "execute_result"
    }
   ],
   "source": [
    "fun"
   ]
  },
  {
   "cell_type": "code",
   "execution_count": 9,
   "metadata": {},
   "outputs": [
    {
     "name": "stdout",
     "output_type": "stream",
     "text": [
      "\n",
      "\n",
      "None\n"
     ]
    }
   ],
   "source": [
    "fun(0)\n",
    "print(fun(0))"
   ]
  },
  {
   "cell_type": "code",
   "execution_count": 14,
   "metadata": {
    "collapsed": true
   },
   "outputs": [],
   "source": [
    "def fun2(n):\n",
    "    result =[]\n",
    "    a,b = 0,1\n",
    "    while a<n:\n",
    "        result.append(a)\n",
    "        a,b = b, a+b\n",
    "    return result"
   ]
  },
  {
   "cell_type": "code",
   "execution_count": 39,
   "metadata": {},
   "outputs": [
    {
     "data": {
      "text/plain": [
       "[0, 1, 1, 2, 3, 5, 8, 13, 21, 34, 55, 89, 144, 233, 377, 610, 987, 1597]"
      ]
     },
     "execution_count": 39,
     "metadata": {},
     "output_type": "execute_result"
    }
   ],
   "source": [
    "fun2(2000)"
   ]
  },
  {
   "cell_type": "code",
   "execution_count": 16,
   "metadata": {
    "collapsed": true
   },
   "outputs": [],
   "source": [
    "def aks(prompt , retries=4 , reminder = 'please try again!'):\n",
    "    while True:\n",
    "        ok = input(prompt)\n",
    "        if ok in ('y','ye','yes'):\n",
    "            return True\n",
    "        if ok in('n','no','nop','nope'):\n",
    "            return False\n",
    "        retries = retries-1\n",
    "        if retries < 0:\n",
    "            raise ValueError('invalid user responce')\n",
    "        print(reminder)"
   ]
  },
  {
   "cell_type": "code",
   "execution_count": 27,
   "metadata": {},
   "outputs": [
    {
     "name": "stdout",
     "output_type": "stream",
     "text": [
      "do you really want to quit?y\n"
     ]
    },
    {
     "data": {
      "text/plain": [
       "True"
      ]
     },
     "execution_count": 27,
     "metadata": {},
     "output_type": "execute_result"
    }
   ],
   "source": [
    "#call function\n",
    "aks('do you really want to quit?',2,'come on, only yes or no')"
   ]
  },
  {
   "cell_type": "code",
   "execution_count": 33,
   "metadata": {},
   "outputs": [
    {
     "name": "stdout",
     "output_type": "stream",
     "text": [
      "[1]\n",
      "[1, 2]\n",
      "[1, 2, 3]\n",
      "[1, 2, 3, 4]\n",
      "[1, 2, 3, 4, 5]\n",
      "[1, 2, 3, 4, 5, 6]\n",
      "[1, 2, 3, 4, 5, 6, 7]\n",
      "[1, 2, 3, 4, 5, 6, 7, 8]\n",
      "[1, 2, 3, 4, 5, 6, 7, 8, 9]\n",
      "[1, 2, 3, 4, 5, 6, 7, 8, 9, 10]\n"
     ]
    }
   ],
   "source": [
    "def f(a,l=[]):\n",
    "    l.append(a)\n",
    "    return l\n",
    "for i in range(1,11):\n",
    "    print(f(i))\n",
    "#print(f(2))\n",
    "#print(f(3))"
   ]
  },
  {
   "cell_type": "code",
   "execution_count": 37,
   "metadata": {},
   "outputs": [
    {
     "name": "stdout",
     "output_type": "stream",
     "text": [
      "[5]\n"
     ]
    }
   ],
   "source": [
    "def f1(a,l=None):\n",
    "    if l is None:\n",
    "        l=[]\n",
    "    l.append(a)\n",
    "    return l\n",
    "print(f1(5))"
   ]
  },
  {
   "cell_type": "code",
   "execution_count": 44,
   "metadata": {},
   "outputs": [
    {
     "name": "stdout",
     "output_type": "stream",
     "text": [
      "male\n",
      "female\n",
      "unknown\n"
     ]
    }
   ],
   "source": [
    "def f3(sex ='unknown'):\n",
    "    if sex is 'm':\n",
    "        sex = 'male'\n",
    "    elif sex is 'f':\n",
    "        sex ='female'\n",
    "    print(sex)\n",
    "f3('m')\n",
    "f3('f')\n",
    "f3()"
   ]
  },
  {
   "cell_type": "code",
   "execution_count": 56,
   "metadata": {},
   "outputs": [
    {
     "name": "stdout",
     "output_type": "stream",
     "text": [
      "300\n",
      "300\n"
     ]
    }
   ],
   "source": [
    "\n",
    "# variable scope in method(function)\n",
    "a= 300\n",
    "def f4():\n",
    "    print(a)\n",
    "def f5():\n",
    "    print(a)\n",
    "\n",
    "f4()\n",
    "f5()"
   ]
  },
  {
   "cell_type": "code",
   "execution_count": 61,
   "metadata": {},
   "outputs": [
    {
     "name": "stdout",
     "output_type": "stream",
     "text": [
      "100\n",
      "300\n"
     ]
    }
   ],
   "source": [
    "# variable scope in method(function)\n",
    "def f4():\n",
    "    a=100\n",
    "    print(a)\n",
    "def f6():\n",
    "    print(a)\n",
    "\n",
    "f4()\n",
    "f6()"
   ]
  },
  {
   "cell_type": "code",
   "execution_count": 64,
   "metadata": {},
   "outputs": [
    {
     "name": "stdout",
     "output_type": "stream",
     "text": [
      "100\n"
     ]
    },
    {
     "ename": "NameError",
     "evalue": "name 'xx' is not defined",
     "output_type": "error",
     "traceback": [
      "\u001b[1;31m---------------------------------------------------------------------------\u001b[0m",
      "\u001b[1;31mNameError\u001b[0m                                 Traceback (most recent call last)",
      "\u001b[1;32m<ipython-input-64-12af806f2daf>\u001b[0m in \u001b[0;36m<module>\u001b[1;34m()\u001b[0m\n\u001b[0;32m      5\u001b[0m     \u001b[0mprint\u001b[0m\u001b[1;33m(\u001b[0m\u001b[0mxx\u001b[0m\u001b[1;33m)\u001b[0m\u001b[1;33m\u001b[0m\u001b[0m\n\u001b[0;32m      6\u001b[0m \u001b[0ma1\u001b[0m\u001b[1;33m(\u001b[0m\u001b[1;33m)\u001b[0m\u001b[1;33m\u001b[0m\u001b[0m\n\u001b[1;32m----> 7\u001b[1;33m \u001b[0ma2\u001b[0m\u001b[1;33m(\u001b[0m\u001b[1;33m)\u001b[0m\u001b[1;33m\u001b[0m\u001b[0m\n\u001b[0m",
      "\u001b[1;32m<ipython-input-64-12af806f2daf>\u001b[0m in \u001b[0;36ma2\u001b[1;34m()\u001b[0m\n\u001b[0;32m      3\u001b[0m     \u001b[0mprint\u001b[0m\u001b[1;33m(\u001b[0m\u001b[0mxx\u001b[0m\u001b[1;33m)\u001b[0m\u001b[1;33m\u001b[0m\u001b[0m\n\u001b[0;32m      4\u001b[0m \u001b[1;32mdef\u001b[0m \u001b[0ma2\u001b[0m\u001b[1;33m(\u001b[0m\u001b[1;33m)\u001b[0m\u001b[1;33m:\u001b[0m\u001b[1;33m\u001b[0m\u001b[0m\n\u001b[1;32m----> 5\u001b[1;33m     \u001b[0mprint\u001b[0m\u001b[1;33m(\u001b[0m\u001b[0mxx\u001b[0m\u001b[1;33m)\u001b[0m\u001b[1;33m\u001b[0m\u001b[0m\n\u001b[0m\u001b[0;32m      6\u001b[0m \u001b[0ma1\u001b[0m\u001b[1;33m(\u001b[0m\u001b[1;33m)\u001b[0m\u001b[1;33m\u001b[0m\u001b[0m\n\u001b[0;32m      7\u001b[0m \u001b[0ma2\u001b[0m\u001b[1;33m(\u001b[0m\u001b[1;33m)\u001b[0m\u001b[1;33m\u001b[0m\u001b[0m\n",
      "\u001b[1;31mNameError\u001b[0m: name 'xx' is not defined"
     ]
    }
   ],
   "source": [
    "def a1():\n",
    "    xx=100\n",
    "    print(xx)\n",
    "def a2():\n",
    "    print(xx)\n",
    "a1()\n",
    "a2()"
   ]
  },
  {
   "cell_type": "code",
   "execution_count": 68,
   "metadata": {},
   "outputs": [
    {
     "name": "stdout",
     "output_type": "stream",
     "text": [
      "chandra prakash maurya\n",
      "bablu singh chutiya\n",
      "chandra kumar suthar\n"
     ]
    }
   ],
   "source": [
    "# Keyword argument method(function)\n",
    "def a3(raja = 'chandra',vimal= 'prakash',baky = 'maurya'):\n",
    "    print(raja , vimal, baky)\n",
    "a3()\n",
    "a3('bablu','singh','chutiya')\n",
    "a3(baky = 'suthar',vimal ='kumar')"
   ]
  },
  {
   "cell_type": "code",
   "execution_count": 8,
   "metadata": {},
   "outputs": [
    {
     "name": "stdout",
     "output_type": "stream",
     "text": [
      "3\n",
      "28\n",
      "1039\n"
     ]
    }
   ],
   "source": [
    "# Flaxible Number Of Argument method(function)\n",
    "def a4(*args):\n",
    "    total = 0\n",
    "    for a in args:\n",
    "        total += a\n",
    "    print(total)\n",
    "a4(3)\n",
    "a4(1,2,3,4,5,6,7)\n",
    "a4(33,22,44,55,66,77,88,99,0,333,222)"
   ]
  },
  {
   "cell_type": "code",
   "execution_count": 20,
   "metadata": {
    "collapsed": true
   },
   "outputs": [],
   "source": [
    "#Arbitrary Argument Lists\n",
    "def write_multiple_items(file, separator, *args):\n",
    "    file.write(separator.join(args))\n"
   ]
  },
  {
   "cell_type": "code",
   "execution_count": 21,
   "metadata": {},
   "outputs": [
    {
     "data": {
      "text/plain": [
       "'raja/babu/bhaiya'"
      ]
     },
     "execution_count": 21,
     "metadata": {},
     "output_type": "execute_result"
    }
   ],
   "source": [
    "#Arbitrary Argument Lists\n",
    "def concat(*args, sep=\"/\"):\n",
    "    return sep.join(args)\n",
    "concat(\"raja\",\"babu\",\"bhaiya\")"
   ]
  },
  {
   "cell_type": "code",
   "execution_count": 22,
   "metadata": {},
   "outputs": [
    {
     "data": {
      "text/plain": [
       "'raja=>babu=>bhaiya'"
      ]
     },
     "execution_count": 22,
     "metadata": {},
     "output_type": "execute_result"
    }
   ],
   "source": [
    "#Arbitrary Argument Lists\n",
    "concat(\"raja\",\"babu\",\"bhaiya\",sep=\"=>\")"
   ]
  },
  {
   "cell_type": "code",
   "execution_count": 23,
   "metadata": {},
   "outputs": [
    {
     "name": "stdout",
     "output_type": "stream",
     "text": [
      "-- This parrot wouldn't VOOM if you put four million volts through it. E's bleedin' demised !\n"
     ]
    }
   ],
   "source": [
    " #Unpacking Argument Lists\n",
    "def parrot(voltage, state='a stiff', action='voom'):\n",
    "    print(\"-- This parrot wouldn't\", action, end=' ')\n",
    "    print(\"if you put\", voltage, \"volts through it.\", end=' ')  \n",
    "    print(\"E's\", state, \"!\")\n",
    "d = {\"voltage\": \"four million\", \"state\": \"bleedin' demised\", \"action\": \"VOOM\"}\n",
    "parrot(**d)\n"
   ]
  },
  {
   "cell_type": "code",
   "execution_count": 30,
   "metadata": {},
   "outputs": [
    {
     "ename": "AttributeError",
     "evalue": "'function' object has no attribute '_doc_'",
     "output_type": "error",
     "traceback": [
      "\u001b[1;31m---------------------------------------------------------------------------\u001b[0m",
      "\u001b[1;31mAttributeError\u001b[0m                            Traceback (most recent call last)",
      "\u001b[1;32m<ipython-input-30-73ff128021bb>\u001b[0m in \u001b[0;36m<module>\u001b[1;34m()\u001b[0m\n\u001b[0;32m      5\u001b[0m     \"\"\"\n\u001b[0;32m      6\u001b[0m     \u001b[1;32mpass\u001b[0m\u001b[1;33m\u001b[0m\u001b[0m\n\u001b[1;32m----> 7\u001b[1;33m \u001b[0mprint\u001b[0m\u001b[1;33m(\u001b[0m\u001b[0mmyd\u001b[0m\u001b[1;33m.\u001b[0m\u001b[0m_doc_\u001b[0m\u001b[1;33m)\u001b[0m\u001b[1;33m\u001b[0m\u001b[0m\n\u001b[0m",
      "\u001b[1;31mAttributeError\u001b[0m: 'function' object has no attribute '_doc_'"
     ]
    }
   ],
   "source": [
    "def myd():\n",
    "    \"\"\" Hey I am CPMaurya \n",
    "    and I am also fine \n",
    "    I expect you are also fine\n",
    "    \"\"\"\n",
    "    pass\n",
    "print(myd._doc_)"
   ]
  },
  {
   "cell_type": "code",
   "execution_count": 47,
   "metadata": {},
   "outputs": [
    {
     "name": "stdout",
     "output_type": "stream",
     "text": [
      "2\n",
      "3\n",
      "6\n",
      "['banana', 'apple', 'kiwi', 'banana', 'pear', 'apple', 'orange']\n",
      "['banana', 'apple', 'kiwi', 'banana', 'pear', 'apple', 'orange', 'grape']\n",
      "['apple', 'apple', 'banana', 'banana', 'grape', 'kiwi', 'orange', 'pear']\n",
      "['apple', 'apple', 'banana', 'banana', 'grape', 'kiwi', 'orange']\n"
     ]
    }
   ],
   "source": [
    "fruits = ['orange', 'apple', 'pear', 'banana', 'kiwi', 'apple', 'banana']\n",
    "print(fruits.count(\"banana\"))\n",
    "print(fruits.index(\"banana\"))\n",
    "print(fruits.index(\"banana\",4))\n",
    "fruits.reverse()\n",
    "print(fruits)\n",
    "fruits.append(\"grape\")\n",
    "print(fruits)\n",
    "fruits.sort()\n",
    "print(fruits)\n",
    "fruits.pop()\n",
    "print(fruits)"
   ]
  },
  {
   "cell_type": "code",
   "execution_count": 48,
   "metadata": {},
   "outputs": [
    {
     "data": {
      "text/plain": [
       "deque(['John', 'Michael'])"
      ]
     },
     "execution_count": 48,
     "metadata": {},
     "output_type": "execute_result"
    }
   ],
   "source": [
    "from collections import deque\n",
    "queue = deque([\"Eric\", \"John\", \"Michael\"])\n",
    "queue.popleft()\n",
    "queue"
   ]
  },
  {
   "cell_type": "code",
   "execution_count": 2,
   "metadata": {},
   "outputs": [
    {
     "name": "stdout",
     "output_type": "stream",
     "text": [
      "calling of lambda function:=  100\n"
     ]
    }
   ],
   "source": [
    "# Anonymous Function & lambda function\n",
    "# syntax = lambda arg1,arg2,arg3 : expression\n",
    "squer = lambda x1 : x1*x1\n",
    "print(\"calling of lambda function:= \", squer(10))"
   ]
  },
  {
   "cell_type": "markdown",
   "metadata": {},
   "source": [
    "# List Study\n"
   ]
  },
  {
   "cell_type": "code",
   "execution_count": 3,
   "metadata": {
    "collapsed": true
   },
   "outputs": [],
   "source": [
    "data1=[1,2,3,4];  \n",
    "data2=['x','y','z'];  \n",
    "data3=[12.5,11.6];  \n",
    "data4=['raman','rahul'];  \n",
    "data5=[];  \n",
    "data6=['abhinav',10,56.4,'a'];  \n"
   ]
  },
  {
   "cell_type": "code",
   "execution_count": 7,
   "metadata": {},
   "outputs": [
    {
     "name": "stdout",
     "output_type": "stream",
     "text": [
      "1\n",
      "[1, 2]\n",
      "['x', 'y']\n",
      "[4, 3, 2, 1]\n"
     ]
    }
   ],
   "source": [
    "print(data1[0])\n",
    "print(data1[0:2])\n",
    "print(data2[-3:-1])\n",
    "print(data1[::-1])"
   ]
  },
  {
   "cell_type": "code",
   "execution_count": 4,
   "metadata": {},
   "outputs": [
    {
     "name": "stdout",
     "output_type": "stream",
     "text": [
      "0\n",
      "2\n"
     ]
    }
   ],
   "source": [
    "# Indexes method in list\n",
    "# Syntax = index(object)\n",
    "data = [786,'abc','a',123.5]\n",
    "print(data.index(786))\n",
    "print(data.index('a'))"
   ]
  },
  {
   "cell_type": "code",
   "execution_count": 5,
   "metadata": {},
   "outputs": [
    {
     "name": "stdout",
     "output_type": "stream",
     "text": [
      "3\n",
      "1\n"
     ]
    }
   ],
   "source": [
    "# count method in list\n",
    "# syntax = count(object)\n",
    "data = [786,'abc','a',123.5,786,'rahul','b',786]  \n",
    "print(data.count(786))\n",
    "print(data.count('rahul'))"
   ]
  },
  {
   "cell_type": "code",
   "execution_count": 6,
   "metadata": {},
   "outputs": [
    {
     "name": "stdout",
     "output_type": "stream",
     "text": [
      "['abc', 123, 10.5, 'a', 'ram', 541]\n",
      "['ram', 541]\n"
     ]
    }
   ],
   "source": [
    "# extend method in  list\n",
    "# Syntax = extend(sequence)\n",
    "data1=['abc',123,10.5,'a']  \n",
    "data2=['ram',541]  \n",
    "data1.extend(data2)\n",
    "print(data1)\n",
    "print(data2)"
   ]
  },
  {
   "cell_type": "code",
   "execution_count": 8,
   "metadata": {},
   "outputs": [
    {
     "name": "stdout",
     "output_type": "stream",
     "text": [
      "['abc', 10.5, 'a', 'xyz']\n"
     ]
    }
   ],
   "source": [
    "# remove method in list\n",
    "# Syntax = remove(object)\n",
    "data1=['abc',123,10.5,'a','xyz']  \n",
    "data1.remove(123)\n",
    "print(data1)"
   ]
  },
  {
   "cell_type": "code",
   "execution_count": 12,
   "metadata": {},
   "outputs": [
    {
     "name": "stdout",
     "output_type": "stream",
     "text": [
      "[50, 40, 30, 20, 10]\n"
     ]
    }
   ],
   "source": [
    "#  reverse method in list\n",
    "# Syntax =  reverse()\n",
    "list1=[10,20,30,40,50] \n",
    "list1.reverse()\n",
    "print(list1)"
   ]
  },
  {
   "cell_type": "code",
   "execution_count": 14,
   "metadata": {},
   "outputs": [
    {
     "name": "stdout",
     "output_type": "stream",
     "text": [
      "[20, 30, 40, 50, 90]\n"
     ]
    }
   ],
   "source": [
    "list1=[20,90,40,50,30]\n",
    "list1.sort()\n",
    "print(list1)"
   ]
  },
  {
   "cell_type": "markdown",
   "metadata": {},
   "source": [
    "# String Study\n"
   ]
  },
  {
   "cell_type": "code",
   "execution_count": 1,
   "metadata": {},
   "outputs": [
    {
     "data": {
      "text/plain": [
       "\"There are basically 3 types of Operators supported by String:\\n\\n1.Basic Operators.('+','*')\\n2.Membership Operators.\\n3.Relational Operators.(<,><=,>=,==,!=,<>)\""
      ]
     },
     "execution_count": 1,
     "metadata": {},
     "output_type": "execute_result"
    }
   ],
   "source": [
    "# Strings Operators\n",
    "\n",
    "\"\"\"There are basically 3 types of Operators supported by String:\n",
    "\n",
    "1.Basic Operators.('+','*')\n",
    "2.Membership Operators.\n",
    "3.Relational Operators.(<,><=,>=,==,!=,<>)\"\"\"\n"
   ]
  },
  {
   "cell_type": "code",
   "execution_count": 8,
   "metadata": {},
   "outputs": [
    {
     "name": "stdout",
     "output_type": "stream",
     "text": [
      "{'prakash ', 'of ', 'anand ', 'cpmaurya', 'is '}\n"
     ]
    }
   ],
   "source": [
    "cpm = {\"anand \",\"prakash \",\"is \",\"of \",\"cpmaurya\"}\n",
    "print(cpm)"
   ]
  },
  {
   "cell_type": "code",
   "execution_count": 9,
   "metadata": {},
   "outputs": [
    {
     "name": "stdout",
     "output_type": "stream",
     "text": [
      "{1, 2, 3}\n",
      "{1.0, (1, 2, 3), 'Hello'}\n"
     ]
    }
   ],
   "source": [
    "# set of integers\n",
    "my_set = {1, 2, 3}\n",
    "print(my_set)\n",
    "\n",
    "# set of mixed datatypes\n",
    "my_set = {1.0, \"Hello\", (1, 2, 3)}\n",
    "print(my_set)"
   ]
  },
  {
   "cell_type": "code",
   "execution_count": 14,
   "metadata": {},
   "outputs": [
    {
     "name": "stdout",
     "output_type": "stream",
     "text": [
      "Hash for 181.23 is: 579773580\n",
      "The hash is: -486857366\n"
     ]
    }
   ],
   "source": [
    "print('Hash for 181.23 is:',hash(181.23))\n",
    "vowels = ('a', 'e', 'i', 'o', 'u')\n",
    "\n",
    "print('The hash is:', hash(vowels))"
   ]
  },
  {
   "cell_type": "code",
   "execution_count": 21,
   "metadata": {},
   "outputs": [
    {
     "name": "stdout",
     "output_type": "stream",
     "text": [
      "Abc\n"
     ]
    }
   ],
   "source": [
    "\n",
    "print('abc'.capitalize())"
   ]
  },
  {
   "cell_type": "code",
   "execution_count": 29,
   "metadata": {},
   "outputs": [
    {
     "name": "stdout",
     "output_type": "stream",
     "text": [
      "3\n",
      "3\n"
     ]
    }
   ],
   "source": [
    "msg = \"welcome to python\"\n",
    "print(msg.count('o'))\n",
    "print(msg.count('o',4,16))"
   ]
  },
  {
   "cell_type": "code",
   "execution_count": 38,
   "metadata": {},
   "outputs": [
    {
     "name": "stdout",
     "output_type": "stream",
     "text": [
      "3\n",
      "8\n",
      "3\n",
      "-1\n"
     ]
    }
   ],
   "source": [
    "str=\"Welcome to SSSIT\";  \n",
    "substr1=\"come\";  \n",
    "substr2=\"to\";  \n",
    "print (str.find(substr1));  \n",
    "print (str.find(substr2));  \n",
    "print (str.find(substr1,3,10));  \n",
    "print (str.find(substr2,19));  "
   ]
  },
  {
   "cell_type": "code",
   "execution_count": 40,
   "metadata": {},
   "outputs": [
    {
     "name": "stdout",
     "output_type": "stream",
     "text": [
      "False\n",
      "True\n"
     ]
    }
   ],
   "source": [
    "str2=\"Welcome to sssit\";  \n",
    "print(str2.isalnum());  \n",
    "str1=\"Python47\";  \n",
    "print(str1.isalnum());  "
   ]
  },
  {
   "cell_type": "code",
   "execution_count": 42,
   "metadata": {},
   "outputs": [
    {
     "name": "stdout",
     "output_type": "stream",
     "text": [
      "True\n",
      "False\n"
     ]
    }
   ],
   "source": [
    "string1=\"HelloPython\";    # Even space is not allowed  \n",
    "print (string1.isalpha());  \n",
    "string2=\"This is Python2.7.4\"  \n",
    "print (string2.isalpha());  "
   ]
  },
  {
   "cell_type": "code",
   "execution_count": 43,
   "metadata": {},
   "outputs": [
    {
     "name": "stdout",
     "output_type": "stream",
     "text": [
      "False\n",
      "True\n"
     ]
    }
   ],
   "source": [
    "string1=\"HelloPython\";   \n",
    "print (string1.isdigit());  \n",
    "string2=\"98564738\"  \n",
    "print (string2.isdigit());"
   ]
  },
  {
   "cell_type": "code",
   "execution_count": 44,
   "metadata": {},
   "outputs": [
    {
     "name": "stdout",
     "output_type": "stream",
     "text": [
      "hello python\n",
      "welcome to sssit\n"
     ]
    }
   ],
   "source": [
    "string1=\"Hello Python\";   \n",
    "print (string1.lower());  \n",
    "string2=\"WELCOME TO SSSIT\"  \n",
    "print (string2.lower());  "
   ]
  },
  {
   "cell_type": "code",
   "execution_count": 45,
   "metadata": {},
   "outputs": [
    {
     "name": "stdout",
     "output_type": "stream",
     "text": [
      "HELLO PYTHON\n",
      "WELCOME TO SSSIT\n"
     ]
    }
   ],
   "source": [
    "string1=\"Hello Python\";   \n",
    "print (string1.upper())  \n",
    "string2=\"welcome to SSSIT\"  \n",
    "print (string2.upper())"
   ]
  },
  {
   "cell_type": "code",
   "execution_count": 46,
   "metadata": {},
   "outputs": [
    {
     "name": "stdout",
     "output_type": "stream",
     "text": [
      "hELLO pYTHON\n",
      "WELCOME TO sssit\n"
     ]
    }
   ],
   "source": [
    "string1=\"Hello Python\";   \n",
    "print (string1.swapcase())  \n",
    "string2=\"welcome to SSSIT\"  \n",
    "print (string2.swapcase()) "
   ]
  },
  {
   "cell_type": "code",
   "execution_count": 50,
   "metadata": {},
   "outputs": [
    {
     "name": "stdout",
     "output_type": "stream",
     "text": [
      "welcome to SSSIT\n"
     ]
    }
   ],
   "source": [
    "string2=\"@@@@@@@@welcome to SSSIT\"  \n",
    "print (string2.lstrip('@')) "
   ]
  },
  {
   "cell_type": "markdown",
   "metadata": {
    "collapsed": true
   },
   "source": [
    "\n",
    "\n",
    "# Study Tuples\n"
   ]
  },
  {
   "cell_type": "code",
   "execution_count": 5,
   "metadata": {},
   "outputs": [
    {
     "name": "stdout",
     "output_type": "stream",
     "text": [
      "(10.2, 'maurya', 22)\n",
      "((10.2, 'maurya', 22), (10, 20, 'ravi'))\n",
      "('vimal', 30, 40)\n"
     ]
    }
   ],
   "source": [
    "\"\"\"A tuple is a sequence of immutable objects, therefore tuple cannot be changed.\n",
    "\n",
    "The objects are enclosed within parenthesis and separated by comma.\"\"\"\n",
    "\n",
    "data = (10.2,'maurya',22)\n",
    "data2 = data,(10,20,'ravi')\n",
    "data3 = 'vimal',30,40\n",
    "print(data)\n",
    "print(data2)\n",
    "print(data3)"
   ]
  },
  {
   "cell_type": "code",
   "execution_count": 9,
   "metadata": {},
   "outputs": [
    {
     "name": "stdout",
     "output_type": "stream",
     "text": [
      "()\n",
      "(10,)\n"
     ]
    }
   ],
   "source": [
    "tuple1 = ()\n",
    "print(tuple1)\n",
    "tuple2 = (10,)  #remove comma and run again , now see output\n",
    "print(tuple2)"
   ]
  },
  {
   "cell_type": "code",
   "execution_count": 59,
   "metadata": {},
   "outputs": [
    {
     "name": "stdout",
     "output_type": "stream",
     "text": [
      "2\n",
      "1 2\n",
      "1299869600\n"
     ]
    }
   ],
   "source": [
    "n = int(input())\n",
    "integer_list = tuple(map(int, input().split()))\n",
    "print(hash(integer_list))"
   ]
  },
  {
   "cell_type": "code",
   "execution_count": 11,
   "metadata": {},
   "outputs": [
    {
     "name": "stdout",
     "output_type": "stream",
     "text": [
      "10\n",
      "('z', 'y', 'x', 30, 20, 10)\n"
     ]
    }
   ],
   "source": [
    "#Accessing Tuple\n",
    "tuple3=(10,20,30,'x','y','z')\n",
    "print(tuple3[0])\n",
    "print(tuple3[::-1])"
   ]
  },
  {
   "cell_type": "markdown",
   "metadata": {
    "collapsed": true
   },
   "source": [
    "\n",
    "# Python modulse :\n"
   ]
  },
  {
   "cell_type": "code",
   "execution_count": 1,
   "metadata": {},
   "outputs": [
    {
     "data": {
      "text/plain": [
       "2.0"
      ]
     },
     "execution_count": 1,
     "metadata": {},
     "output_type": "execute_result"
    }
   ],
   "source": [
    "import math\n",
    "math.sqrt(4)"
   ]
  },
  {
   "cell_type": "code",
   "execution_count": 3,
   "metadata": {},
   "outputs": [
    {
     "data": {
      "text/plain": [
       "1.3333333333333333"
      ]
     },
     "execution_count": 3,
     "metadata": {},
     "output_type": "execute_result"
    }
   ],
   "source": [
    "4/3"
   ]
  },
  {
   "cell_type": "code",
   "execution_count": 4,
   "metadata": {},
   "outputs": [
    {
     "data": {
      "text/plain": [
       "1"
      ]
     },
     "execution_count": 4,
     "metadata": {},
     "output_type": "execute_result"
    }
   ],
   "source": [
    "4%3"
   ]
  },
  {
   "cell_type": "code",
   "execution_count": 8,
   "metadata": {},
   "outputs": [
    {
     "name": "stdout",
     "output_type": "stream",
     "text": [
      "123"
     ]
    }
   ],
   "source": [
    "for i in range(1,4):\n",
    "    print(i,end='')"
   ]
  },
  {
   "cell_type": "code",
   "execution_count": 24,
   "metadata": {},
   "outputs": [
    {
     "name": "stdout",
     "output_type": "stream",
     "text": [
      "5\n",
      "weird\n"
     ]
    }
   ],
   "source": [
    "n=int(input())\n",
    "if n%2!=0:\n",
    "    print(\"weird\")\n",
    "if n%2==0:\n",
    "    print(\"not weird\")"
   ]
  },
  {
   "cell_type": "code",
   "execution_count": 46,
   "metadata": {},
   "outputs": [
    {
     "name": "stdout",
     "output_type": "stream",
     "text": [
      "5\n",
      "    H    \n",
      "   HHH   \n",
      "  HHHHH  \n",
      " HHHHHHH \n",
      "HHHHHHHHH\n",
      "  HHHHH               HHHHH             \n",
      "  HHHHH               HHHHH             \n",
      "  HHHHH               HHHHH             \n",
      "  HHHHH               HHHHH             \n",
      "  HHHHH               HHHHH             \n",
      "  HHHHH               HHHHH             \n",
      "  HHHHHHHHHHHHHHHHHHHHHHHHH   \n",
      "  HHHHHHHHHHHHHHHHHHHHHHHHH   \n",
      "  HHHHHHHHHHHHHHHHHHHHHHHHH   \n",
      "  HHHHH               HHHHH             \n",
      "  HHHHH               HHHHH             \n",
      "  HHHHH               HHHHH             \n",
      "  HHHHH               HHHHH             \n",
      "  HHHHH               HHHHH             \n",
      "  HHHHH               HHHHH             \n",
      "                    HHHHHHHHH \n",
      "                     HHHHHHH  \n",
      "                      HHHHH   \n",
      "                       HHH    \n",
      "                        H     \n"
     ]
    }
   ],
   "source": [
    "#Replace all ______ with rjust, ljust or center. \n",
    "\n",
    "thickness = int(input()) #This must be an odd number\n",
    "c = 'H'\n",
    "\n",
    "#Top Cone\n",
    "for i in range(thickness):\n",
    "    print((c*i).rjust(thickness-1)+c+(c*i).ljust(thickness-1))\n",
    "\n",
    "#Top Pillars\n",
    "for i in range(thickness+1):\n",
    "    print((c*thickness).center(thickness*2)+(c*thickness).center(thickness*6))\n",
    "\n",
    "#Middle Belt\n",
    "for i in range((thickness+1)//2):\n",
    "    print((c*thickness*5).center(thickness*6))    \n",
    "\n",
    "#Bottom Pillars\n",
    "for i in range(thickness+1):\n",
    "    print((c*thickness).center(thickness*2)+(c*thickness).center(thickness*6))    \n",
    "\n",
    "#Bottom Cone\n",
    "for i in range(thickness):\n",
    "    print(((c*(thickness-i-1)).rjust(thickness)+c+(c*(thickness-i-1)).ljust(thickness)).rjust(thickness*6))  \n"
   ]
  },
  {
   "cell_type": "markdown",
   "metadata": {},
   "source": [
    "# TextWrap\n"
   ]
  },
  {
   "cell_type": "code",
   "execution_count": 42,
   "metadata": {},
   "outputs": [
    {
     "name": "stdout",
     "output_type": "stream",
     "text": [
      "['This is', 'a very', 'very', 'very', 'very', 'very', 'long', 'string.']\n"
     ]
    }
   ],
   "source": [
    "#using wrap()\n",
    "\n",
    "import textwrap\n",
    "string = \"This is a very very very very very long string.\" \n",
    "print (textwrap.wrap(string,8))"
   ]
  },
  {
   "cell_type": "code",
   "execution_count": 43,
   "metadata": {},
   "outputs": [
    {
     "name": "stdout",
     "output_type": "stream",
     "text": [
      "This is\n",
      "a very\n",
      "very\n",
      "very\n",
      "very\n",
      "very\n",
      "long\n",
      "string.\n"
     ]
    }
   ],
   "source": [
    "#using fill()\n",
    "\n",
    "import textwrap\n",
    "string = \"This is a very very very very very long string.\"\n",
    "print (textwrap.fill(string,8))"
   ]
  },
  {
   "cell_type": "code",
   "execution_count": 49,
   "metadata": {},
   "outputs": [
    {
     "name": "stdout",
     "output_type": "stream",
     "text": [
      "abcdefghijklmnopqrstuvwxyz\n",
      "2\n",
      "ab\n",
      "cd\n",
      "ef\n",
      "gh\n",
      "ij\n",
      "kl\n",
      "mn\n",
      "op\n",
      "qr\n",
      "st\n",
      "uv\n",
      "wx\n",
      "yz\n"
     ]
    }
   ],
   "source": [
    "import textwrap\n",
    "a=input()\n",
    "b=int(input())\n",
    "print (textwrap.fill(a,b))"
   ]
  },
  {
   "cell_type": "code",
   "execution_count": 52,
   "metadata": {},
   "outputs": [
    {
     "name": "stdout",
     "output_type": "stream",
     "text": [
      "7 20\n",
      "--------.|.---------\n",
      "-----.|..|..|.------\n",
      "--.|..|..|..|..|.---\n",
      "------WELCOME-------\n",
      "--.|..|..|..|..|.---\n",
      "-----.|..|..|.------\n",
      "--------.|.---------\n"
     ]
    }
   ],
   "source": [
    "N, M = map(int,input().split()) \n",
    "for i in range(1,N,2): \n",
    "    print(str('.|.' * i).center(M, '-'))\n",
    "print('WELCOME'.center(M, '-'))\n",
    "for i in range(N-2,-1,-2): \n",
    "    print(str('.|.' * i).center(M, '-'))"
   ]
  },
  {
   "cell_type": "code",
   "execution_count": 57,
   "metadata": {},
   "outputs": [
    {
     "name": "stdout",
     "output_type": "stream",
     "text": [
      "17\n",
      "    1     1     1     1\n",
      "    2     2     2    10\n",
      "    3     3     3    11\n",
      "    4     4     4   100\n",
      "    5     5     5   101\n",
      "    6     6     6   110\n",
      "    7     7     7   111\n",
      "    8    10     8  1000\n",
      "    9    11     9  1001\n",
      "   10    12     A  1010\n",
      "   11    13     B  1011\n",
      "   12    14     C  1100\n",
      "   13    15     D  1101\n",
      "   14    16     E  1110\n",
      "   15    17     F  1111\n",
      "   16    20    10 10000\n",
      "   17    21    11 10001\n"
     ]
    }
   ],
   "source": [
    "N=int(input())\n",
    "width = len('{:b}'.format(N))\n",
    "for i in range(1, N+1):\n",
    "    print (str.rjust(str(i), width),\\\n",
    "    str.rjust('{:o}'.format(i), width),\\\n",
    "    str.rjust('{:X}'.format(i), width),\\\n",
    "    str.rjust('{:b}'.format(i), width))"
   ]
  },
  {
   "cell_type": "code",
   "execution_count": 1,
   "metadata": {},
   "outputs": [
    {
     "name": "stdout",
     "output_type": "stream",
     "text": [
      "5\n",
      "4\n",
      "3.0\n",
      "20.085536923187668\n",
      "0.6931471805599453\n",
      "8.0\n",
      "0.0\n",
      "1.0\n",
      "1.6197751905438615\n"
     ]
    }
   ],
   "source": [
    "import math  \n",
    "a=4.6  \n",
    "print (math.ceil(a))  \n",
    "print (math.floor(a))  \n",
    "b=9  \n",
    "print (math.sqrt(b))  \n",
    "print (math.exp(3.0))  \n",
    "print (math.log(2.0))  \n",
    "print (math.pow(2.0,3.0))  \n",
    "print (math.sin(0))  \n",
    "print (math.cos(0))\n",
    "print (math.tan(45))  "
   ]
  },
  {
   "cell_type": "code",
   "execution_count": 2,
   "metadata": {},
   "outputs": [
    {
     "name": "stdout",
     "output_type": "stream",
     "text": [
      "3.141592653589793\n",
      "2.718281828459045\n"
     ]
    }
   ],
   "source": [
    "import math  \n",
    "print (math.pi)  \n",
    "print (math.e)  "
   ]
  },
  {
   "cell_type": "markdown",
   "metadata": {},
   "source": [
    "# Python Date "
   ]
  },
  {
   "cell_type": "code",
   "execution_count": 4,
   "metadata": {},
   "outputs": [
    {
     "name": "stdout",
     "output_type": "stream",
     "text": [
      "real time is time.struct_time(tm_year=2017, tm_mon=8, tm_mday=21, tm_hour=23, tm_min=3, tm_sec=11, tm_wday=0, tm_yday=233, tm_isdst=0)\n"
     ]
    }
   ],
   "source": [
    "import time\n",
    "cp=time.localtime(time.time())\n",
    "print(\"real time is\",localtime)"
   ]
  },
  {
   "cell_type": "code",
   "execution_count": 8,
   "metadata": {},
   "outputs": [
    {
     "name": "stdout",
     "output_type": "stream",
     "text": [
      "current time is: Mon Aug 21 23:14:47 2017\n",
      "current time is: Mon Aug 21 23:14:57 2017\n"
     ]
    }
   ],
   "source": [
    "import time\n",
    "cp = time.asctime(time.localtime(time.time()))\n",
    "print(\"current time is:\",cp)\n",
    "time.sleep(10)\n",
    "cp = time.asctime(time.localtime(time.time()))\n",
    "print(\"current time is:\",cp)"
   ]
  },
  {
   "cell_type": "code",
   "execution_count": 9,
   "metadata": {},
   "outputs": [
    {
     "name": "stdout",
     "output_type": "stream",
     "text": [
      "time.struct_time(tm_year=2017, tm_mon=8, tm_mday=21, tm_hour=17, tm_min=48, tm_sec=52, tm_wday=0, tm_yday=233, tm_isdst=0)\n"
     ]
    }
   ],
   "source": [
    "import time \n",
    "print(time.gmtime())"
   ]
  },
  {
   "cell_type": "code",
   "execution_count": 14,
   "metadata": {},
   "outputs": [
    {
     "name": "stdout",
     "output_type": "stream",
     "text": [
      "calendar is :\n",
      "    August 2017\n",
      "Mo Tu We Th Fr Sa Su\n",
      "    1  2  3  4  5  6\n",
      " 7  8  9 10 11 12 13\n",
      "14 15 16 17 18 19 20\n",
      "21 22 23 24 25 26 27\n",
      "28 29 30 31\n",
      "\n"
     ]
    }
   ],
   "source": [
    "import calendar\n",
    "print('calendar is :')\n",
    "cal = calendar.month(2017,8)\n",
    "print(cal)"
   ]
  },
  {
   "cell_type": "code",
   "execution_count": 24,
   "metadata": {},
   "outputs": [
    {
     "name": "stdout",
     "output_type": "stream",
     "text": [
      "This year calendar is:\n",
      "                                  2018\n",
      "\n",
      "      January                   February                   March\n",
      "Mo Tu We Th Fr Sa Su      Mo Tu We Th Fr Sa Su      Mo Tu We Th Fr Sa Su\n",
      " 1  2  3  4  5  6  7                1  2  3  4                1  2  3  4\n",
      " 8  9 10 11 12 13 14       5  6  7  8  9 10 11       5  6  7  8  9 10 11\n",
      "15 16 17 18 19 20 21      12 13 14 15 16 17 18      12 13 14 15 16 17 18\n",
      "22 23 24 25 26 27 28      19 20 21 22 23 24 25      19 20 21 22 23 24 25\n",
      "29 30 31                  26 27 28                  26 27 28 29 30 31\n",
      "\n",
      "       April                      May                       June\n",
      "Mo Tu We Th Fr Sa Su      Mo Tu We Th Fr Sa Su      Mo Tu We Th Fr Sa Su\n",
      "                   1          1  2  3  4  5  6                   1  2  3\n",
      " 2  3  4  5  6  7  8       7  8  9 10 11 12 13       4  5  6  7  8  9 10\n",
      " 9 10 11 12 13 14 15      14 15 16 17 18 19 20      11 12 13 14 15 16 17\n",
      "16 17 18 19 20 21 22      21 22 23 24 25 26 27      18 19 20 21 22 23 24\n",
      "23 24 25 26 27 28 29      28 29 30 31               25 26 27 28 29 30\n",
      "30\n",
      "\n",
      "        July                     August                  September\n",
      "Mo Tu We Th Fr Sa Su      Mo Tu We Th Fr Sa Su      Mo Tu We Th Fr Sa Su\n",
      "                   1             1  2  3  4  5                      1  2\n",
      " 2  3  4  5  6  7  8       6  7  8  9 10 11 12       3  4  5  6  7  8  9\n",
      " 9 10 11 12 13 14 15      13 14 15 16 17 18 19      10 11 12 13 14 15 16\n",
      "16 17 18 19 20 21 22      20 21 22 23 24 25 26      17 18 19 20 21 22 23\n",
      "23 24 25 26 27 28 29      27 28 29 30 31            24 25 26 27 28 29 30\n",
      "30 31\n",
      "\n",
      "      October                   November                  December\n",
      "Mo Tu We Th Fr Sa Su      Mo Tu We Th Fr Sa Su      Mo Tu We Th Fr Sa Su\n",
      " 1  2  3  4  5  6  7                1  2  3  4                      1  2\n",
      " 8  9 10 11 12 13 14       5  6  7  8  9 10 11       3  4  5  6  7  8  9\n",
      "15 16 17 18 19 20 21      12 13 14 15 16 17 18      10 11 12 13 14 15 16\n",
      "22 23 24 25 26 27 28      19 20 21 22 23 24 25      17 18 19 20 21 22 23\n",
      "29 30 31                  26 27 28 29 30            24 25 26 27 28 29 30\n",
      "                                                    31\n",
      "\n",
      "None\n"
     ]
    }
   ],
   "source": [
    "import calendar\n",
    "print('This year calendar is:')\n",
    "cal = calendar.prcal(2018)\n",
    "print(cal)"
   ]
  },
  {
   "cell_type": "code",
   "execution_count": 16,
   "metadata": {},
   "outputs": [
    {
     "name": "stdout",
     "output_type": "stream",
     "text": [
      "True\n"
     ]
    }
   ],
   "source": [
    "import calendar  \n",
    "print(calendar.isleap(2000) ) "
   ]
  },
  {
   "cell_type": "code",
   "execution_count": 18,
   "metadata": {},
   "outputs": [
    {
     "name": "stdout",
     "output_type": "stream",
     "text": [
      "[[0, 1, 2, 3, 4, 5, 6], [7, 8, 9, 10, 11, 12, 13], [14, 15, 16, 17, 18, 19, 20], [21, 22, 23, 24, 25, 26, 27], [28, 29, 30, 31, 0, 0, 0]]\n"
     ]
    }
   ],
   "source": [
    "import calendar  \n",
    "m = calendar.monthcalendar(2017,8)\n",
    "print(m)"
   ]
  },
  {
   "cell_type": "markdown",
   "metadata": {},
   "source": [
    "# Input/Output"
   ]
  },
  {
   "cell_type": "code",
   "execution_count": 5,
   "metadata": {},
   "outputs": [
    {
     "name": "stdout",
     "output_type": "stream",
     "text": [
      "enter some numbercp\n",
      "your entered expretion cp\n"
     ]
    }
   ],
   "source": [
    "n = input(\"enter some number\")\n",
    "print(\"your entered expretion\",n)"
   ]
  },
  {
   "cell_type": "code",
   "execution_count": 7,
   "metadata": {},
   "outputs": [
    {
     "ename": "NameError",
     "evalue": "name 'raw_input' is not defined",
     "output_type": "error",
     "traceback": [
      "\u001b[1;31m---------------------------------------------------------------------------\u001b[0m",
      "\u001b[1;31mNameError\u001b[0m                                 Traceback (most recent call last)",
      "\u001b[1;32m<ipython-input-7-34be346d5343>\u001b[0m in \u001b[0;36m<module>\u001b[1;34m()\u001b[0m\n\u001b[1;32m----> 1\u001b[1;33m \u001b[0mn\u001b[0m \u001b[1;33m=\u001b[0m \u001b[0mraw_input\u001b[0m\u001b[1;33m(\u001b[0m\u001b[1;34m\"enter some number\"\u001b[0m\u001b[1;33m)\u001b[0m\u001b[1;33m;\u001b[0m\u001b[1;33m\u001b[0m\u001b[0m\n\u001b[0m\u001b[0;32m      2\u001b[0m \u001b[0mprint\u001b[0m\u001b[1;33m(\u001b[0m\u001b[1;34m\"your entered expretion\"\u001b[0m\u001b[1;33m,\u001b[0m\u001b[0mn\u001b[0m\u001b[1;33m)\u001b[0m\u001b[1;33m\u001b[0m\u001b[0m\n",
      "\u001b[1;31mNameError\u001b[0m: name 'raw_input' is not defined"
     ]
    }
   ],
   "source": [
    "n = raw_input(\"enter some number\");\n",
    "print(\"your entered expretion\",n)"
   ]
  },
  {
   "cell_type": "code",
   "execution_count": 14,
   "metadata": {},
   "outputs": [
    {
     "name": "stdout",
     "output_type": "stream",
     "text": [
      " 1   1   1\n",
      " 2   4   8\n",
      " 3   9  27\n",
      " 4  16  64\n",
      " 5  25 125\n",
      " 6  36 216\n",
      " 7  49 343\n",
      " 8  64 512\n",
      " 9  81 729\n",
      "10 1001000\n"
     ]
    }
   ],
   "source": [
    "for i in range(1,11):\n",
    "    print(repr(i).rjust(2), repr(i*i).rjust(3), end ='')\n",
    "    print(repr(i*i*i).rjust(4))"
   ]
  },
  {
   "cell_type": "code",
   "execution_count": 11,
   "metadata": {},
   "outputs": [
    {
     "name": "stdout",
     "output_type": "stream",
     "text": [
      " 1   1    1\n",
      " 2   4    8\n",
      " 3   9   27\n",
      " 4  16   64\n",
      " 5  25  125\n",
      " 6  36  216\n",
      " 7  49  343\n",
      " 8  64  512\n",
      " 9  81  729\n",
      "10 100 1000\n"
     ]
    }
   ],
   "source": [
    "for x in range(1,11):\n",
    "    print('{0:2d} {1:3d} {2:4d}'.format(x, x*x, x*x*x))"
   ]
  },
  {
   "cell_type": "code",
   "execution_count": 18,
   "metadata": {},
   "outputs": [
    {
     "name": "stdout",
     "output_type": "stream",
     "text": [
      "00012\n",
      "0000000012\n",
      "000000000000012\n"
     ]
    }
   ],
   "source": [
    "print('12'.zfill(5))\n",
    "print('12'.zfill(10))\n",
    "print('12'.zfill(15))"
   ]
  },
  {
   "cell_type": "code",
   "execution_count": 25,
   "metadata": {},
   "outputs": [
    {
     "name": "stdout",
     "output_type": "stream",
     "text": [
      "my first name chandra and last name 'prakash' \n",
      "chandra  and prakash\n",
      "prakash and chandra \n",
      "prakash and chandra  and maurya\n"
     ]
    }
   ],
   "source": [
    "print(\"my first name {} and last name {!r} \".format(\"chandra\",\"prakash\"))\n",
    "print(\"{0} and {1}\".format(\"chandra \",\"prakash\"))\n",
    "print(\"{1} and {0}\".format(\"chandra \",\"prakash\"))\n",
    "print(\"{1} and {0} and {other}\".format(\"chandra \",\"prakash\",other='maurya'))"
   ]
  },
  {
   "cell_type": "code",
   "execution_count": 33,
   "metadata": {},
   "outputs": [
    {
     "name": "stdout",
     "output_type": "stream",
     "text": [
      "Welcome to the world of Python\n",
      "Welcome to the world\n",
      "abcd.txt\n"
     ]
    }
   ],
   "source": [
    "obj=open(\"abcd.txt\",\"w\")\n",
    "obj.write(\"Welcome to the world of Python\")  \n",
    "obj.close()  \n",
    "obj1=open(\"abcd.txt\",\"r\")  \n",
    "s=obj1.read() \n",
    "print(s)\n",
    "obj1.close()\n",
    "obj2=open(\"abcd.txt\",\"r\")\n",
    "s1=obj2.read(20)\n",
    "print(s1)\n",
    "obj2.close()\n",
    "print(obj.name)"
   ]
  },
  {
   "cell_type": "markdown",
   "metadata": {},
   "source": [
    "# Exception Handling"
   ]
  },
  {
   "cell_type": "code",
   "execution_count": null,
   "metadata": {
    "collapsed": true
   },
   "outputs": [],
   "source": []
  }
 ],
 "metadata": {
  "kernelspec": {
   "display_name": "Python 3",
   "language": "python",
   "name": "python3"
  },
  "language_info": {
   "codemirror_mode": {
    "name": "ipython",
    "version": 3
   },
   "file_extension": ".py",
   "mimetype": "text/x-python",
   "name": "python",
   "nbconvert_exporter": "python",
   "pygments_lexer": "ipython3",
   "version": "3.6.0"
  }
 },
 "nbformat": 4,
 "nbformat_minor": 2
}
